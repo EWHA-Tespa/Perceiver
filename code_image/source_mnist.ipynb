{
 "cells": [
  {
   "cell_type": "markdown",
   "metadata": {},
   "source": [
    "# Setting"
   ]
  },
  {
   "cell_type": "code",
   "execution_count": 7,
   "metadata": {},
   "outputs": [],
   "source": [
    "# !pip install datasets\n",
    "# !pip install transformers"
   ]
  },
  {
   "cell_type": "code",
   "execution_count": 8,
   "metadata": {},
   "outputs": [],
   "source": [
    "# import torch\n",
    "# import pandas\n",
    "# import numpy\n",
    "\n",
    "# from transformers import pipeline\n",
    "# from transformers import PerceiverModel\n",
    "\n",
    "# from datasets import load_dataset"
   ]
  },
  {
   "cell_type": "code",
   "execution_count": 9,
   "metadata": {},
   "outputs": [],
   "source": [
    "import torch\n",
    "from torchvision import datasets, transforms\n",
    "from torch.utils.data import DataLoader\n",
    "import torch.nn as nn"
   ]
  },
  {
   "cell_type": "code",
   "execution_count": 10,
   "metadata": {},
   "outputs": [
    {
     "name": "stdout",
     "output_type": "stream",
     "text": [
      "Downloading http://yann.lecun.com/exdb/mnist/train-images-idx3-ubyte.gz\n",
      "Failed to download (trying next):\n",
      "HTTP Error 403: Forbidden\n",
      "\n",
      "Downloading https://ossci-datasets.s3.amazonaws.com/mnist/train-images-idx3-ubyte.gz\n",
      "Downloading https://ossci-datasets.s3.amazonaws.com/mnist/train-images-idx3-ubyte.gz to ./data/MNIST/raw/train-images-idx3-ubyte.gz\n"
     ]
    },
    {
     "name": "stderr",
     "output_type": "stream",
     "text": [
      "100%|██████████| 9.91M/9.91M [00:10<00:00, 931kB/s] \n"
     ]
    },
    {
     "name": "stdout",
     "output_type": "stream",
     "text": [
      "Extracting ./data/MNIST/raw/train-images-idx3-ubyte.gz to ./data/MNIST/raw\n",
      "\n",
      "Downloading http://yann.lecun.com/exdb/mnist/train-labels-idx1-ubyte.gz\n",
      "Failed to download (trying next):\n",
      "HTTP Error 403: Forbidden\n",
      "\n",
      "Downloading https://ossci-datasets.s3.amazonaws.com/mnist/train-labels-idx1-ubyte.gz\n",
      "Downloading https://ossci-datasets.s3.amazonaws.com/mnist/train-labels-idx1-ubyte.gz to ./data/MNIST/raw/train-labels-idx1-ubyte.gz\n"
     ]
    },
    {
     "name": "stderr",
     "output_type": "stream",
     "text": [
      "100%|██████████| 28.9k/28.9k [00:00<00:00, 75.5kB/s]\n"
     ]
    },
    {
     "name": "stdout",
     "output_type": "stream",
     "text": [
      "Extracting ./data/MNIST/raw/train-labels-idx1-ubyte.gz to ./data/MNIST/raw\n",
      "\n",
      "Downloading http://yann.lecun.com/exdb/mnist/t10k-images-idx3-ubyte.gz\n",
      "Failed to download (trying next):\n",
      "HTTP Error 403: Forbidden\n",
      "\n",
      "Downloading https://ossci-datasets.s3.amazonaws.com/mnist/t10k-images-idx3-ubyte.gz\n",
      "Downloading https://ossci-datasets.s3.amazonaws.com/mnist/t10k-images-idx3-ubyte.gz to ./data/MNIST/raw/t10k-images-idx3-ubyte.gz\n"
     ]
    },
    {
     "name": "stderr",
     "output_type": "stream",
     "text": [
      "100%|██████████| 1.65M/1.65M [00:01<00:00, 1.23MB/s]\n"
     ]
    },
    {
     "name": "stdout",
     "output_type": "stream",
     "text": [
      "Extracting ./data/MNIST/raw/t10k-images-idx3-ubyte.gz to ./data/MNIST/raw\n",
      "\n",
      "Downloading http://yann.lecun.com/exdb/mnist/t10k-labels-idx1-ubyte.gz\n",
      "Failed to download (trying next):\n",
      "HTTP Error 403: Forbidden\n",
      "\n",
      "Downloading https://ossci-datasets.s3.amazonaws.com/mnist/t10k-labels-idx1-ubyte.gz\n",
      "Downloading https://ossci-datasets.s3.amazonaws.com/mnist/t10k-labels-idx1-ubyte.gz to ./data/MNIST/raw/t10k-labels-idx1-ubyte.gz\n"
     ]
    },
    {
     "name": "stderr",
     "output_type": "stream",
     "text": [
      "100%|██████████| 4.54k/4.54k [00:00<00:00, 2.59MB/s]"
     ]
    },
    {
     "name": "stdout",
     "output_type": "stream",
     "text": [
      "Extracting ./data/MNIST/raw/t10k-labels-idx1-ubyte.gz to ./data/MNIST/raw\n",
      "\n"
     ]
    },
    {
     "name": "stderr",
     "output_type": "stream",
     "text": [
      "\n"
     ]
    }
   ],
   "source": [
    "transform = transforms.Compose([\n",
    "    transforms.ToTensor(),\n",
    "    transforms.Normalize((0.5,), (0.5,))  # Normalize to range [-1, 1]\n",
    "])\n",
    "\n",
    "train_dataset = datasets.MNIST(root='./data', train=True, download=True, transform=transform)\n",
    "test_dataset = datasets.MNIST(root='./data', train=False, download=True, transform=transform)\n",
    "\n",
    "train_loader = DataLoader(train_dataset, batch_size=64, shuffle=True)\n",
    "test_loader = DataLoader(test_dataset, batch_size=64, shuffle=False)"
   ]
  },
  {
   "cell_type": "code",
   "execution_count": 22,
   "metadata": {},
   "outputs": [],
   "source": [
    "class Perceiver(nn.Module):\n",
    "    def __init__(self, input_dim, latent_dim, latent_size, num_classes, num_latent_blocks):\n",
    "        super(Perceiver, self).__init__()\n",
    "        self.latents = nn.Parameter(torch.randn(latent_size, latent_dim))\n",
    "        self.input_projection = nn.Linear(input_dim, latent_dim)  # 입력을 latent 차원으로 변환\n",
    "        self.cross_attention = nn.MultiheadAttention(embed_dim=latent_dim, num_heads=8)\n",
    "        self.self_attention = nn.ModuleList([\n",
    "            nn.TransformerEncoderLayer(d_model=latent_dim, nhead=8) for _ in range(num_latent_blocks)\n",
    "        ])\n",
    "        self.output_layer = nn.Linear(latent_dim, num_classes)\n",
    "\n",
    "    def forward(self, x):\n",
    "        B, T, F = x.size()  # B: Batch, T: Sequence length, F: Feature dim\n",
    "        x = self.input_projection(x)  # Feature dim 변환 (F -> latent_dim)\n",
    "        latents = self.latents.expand(B, -1, -1)  # Latent (batch_size, latent_size, latent_dim)\n",
    "        x = x.permute(1, 0, 2)  # (T, B, latent_dim) for MultiheadAttention\n",
    "        latents = latents.permute(1, 0, 2)  # (latent_size, B, latent_dim)\n",
    "        latents, _ = self.cross_attention(latents, x, x)  # Cross Attention\n",
    "        \n",
    "        for layer in self.self_attention:\n",
    "            latents = layer(latents)  # Latent Self-Attention\n",
    "        \n",
    "        latents = latents.permute(1, 0, 2).mean(dim=1)  # (B, latent_dim), Global Average Pooling\n",
    "        return self.output_layer(latents)\n"
   ]
  },
  {
   "cell_type": "code",
   "execution_count": 23,
   "metadata": {},
   "outputs": [],
   "source": [
    "import torch.optim as optim"
   ]
  },
  {
   "cell_type": "code",
   "execution_count": 24,
   "metadata": {},
   "outputs": [],
   "source": [
    "model = Perceiver(input_dim=28*28, latent_dim=128, latent_size=64, num_classes=10, num_latent_blocks=4)\n",
    "criterion = nn.CrossEntropyLoss()\n",
    "optimizer = optim.Adam(model.parameters(), lr=0.001)"
   ]
  },
  {
   "cell_type": "code",
   "execution_count": 25,
   "metadata": {},
   "outputs": [],
   "source": [
    "import matplotlib.pyplot as plt"
   ]
  },
  {
   "cell_type": "code",
   "execution_count": 26,
   "metadata": {},
   "outputs": [],
   "source": [
    "# Train and Test 수정\n",
    "def train_model(model, train_loader, test_loader, criterion, optimizer, epochs):\n",
    "    model.train()\n",
    "    train_losses = []\n",
    "    val_accuracies = []\n",
    "\n",
    "    for epoch in range(epochs):\n",
    "        total_loss = 0\n",
    "        for images, labels in train_loader:\n",
    "            images = images.view(images.size(0), 1, 784)  # (batch_size, sequence_length=1, feature_dim=784)\n",
    "            optimizer.zero_grad()\n",
    "            outputs = model(images)\n",
    "            loss = criterion(outputs, labels)\n",
    "            loss.backward()\n",
    "            optimizer.step()\n",
    "            total_loss += loss.item()\n",
    "\n",
    "        train_losses.append(total_loss / len(train_loader))\n",
    "        accuracy = evaluate_model(model, test_loader, log_results=False)\n",
    "        val_accuracies.append(accuracy)\n",
    "\n",
    "        print(f\"Epoch {epoch+1}/{epochs}, Loss: {train_losses[-1]:.4f}, Val Accuracy: {val_accuracies[-1]:.2f}%\")\n",
    "    \n",
    "    return train_losses, val_accuracies\n",
    "\n",
    "def evaluate_model(model, test_loader, log_results=True):\n",
    "    model.eval()\n",
    "    correct = 0\n",
    "    total = 0\n",
    "    with torch.no_grad():\n",
    "        for images, labels in test_loader:\n",
    "            images = images.view(images.size(0), 1, 784)  # (batch_size, sequence_length=1, feature_dim=784)\n",
    "            outputs = model(images)\n",
    "            _, predicted = torch.max(outputs, 1)\n",
    "            total += labels.size(0)\n",
    "            correct += (predicted == labels).sum().item()\n",
    "\n",
    "    accuracy = 100 * correct / total\n",
    "    if log_results:\n",
    "        print(f\"Test Accuracy: {accuracy:.2f}%\")\n",
    "    return accuracy\n"
   ]
  },
  {
   "cell_type": "code",
   "execution_count": 27,
   "metadata": {},
   "outputs": [
    {
     "name": "stdout",
     "output_type": "stream",
     "text": [
      "Epoch 1/10, Loss: 0.5742, Val Accuracy: 90.23%\n",
      "Epoch 2/10, Loss: 0.3081, Val Accuracy: 93.13%\n",
      "Epoch 3/10, Loss: 0.2509, Val Accuracy: 94.17%\n",
      "Epoch 4/10, Loss: 0.2126, Val Accuracy: 94.26%\n",
      "Epoch 5/10, Loss: 0.1949, Val Accuracy: 91.78%\n",
      "Epoch 6/10, Loss: 0.1714, Val Accuracy: 95.55%\n",
      "Epoch 7/10, Loss: 0.1599, Val Accuracy: 94.80%\n",
      "Epoch 8/10, Loss: 0.1525, Val Accuracy: 95.76%\n",
      "Epoch 9/10, Loss: 0.1349, Val Accuracy: 96.10%\n",
      "Epoch 10/10, Loss: 0.1305, Val Accuracy: 94.56%\n"
     ]
    },
    {
     "data": {
      "image/png": "[encoded data removed]",
      "text/plain": [
       "<Figure size 640x480 with 2 Axes>"
      ]
     },
     "metadata": {},
     "output_type": "display_data"
    }
   ],
   "source": [
    "# 모델 학습\n",
    "epochs = 10\n",
    "train_losses, val_accuracies = train_model(model, train_loader, test_loader, criterion, optimizer, epochs)\n",
    "\n",
    "# Learning curve 그리기\n",
    "def plot_learning_curve(train_losses, val_accuracies):\n",
    "    fig, ax1 = plt.subplots()\n",
    "\n",
    "    # Loss curve\n",
    "    ax1.set_xlabel('Epochs')\n",
    "    ax1.set_ylabel('Train Loss', color='tab:blue')\n",
    "    ax1.plot(range(1, len(train_losses) + 1), train_losses, label='Train Loss', color='tab:blue')\n",
    "    ax1.tick_params(axis='y', labelcolor='tab:blue')\n",
    "\n",
    "    # Accuracy curve\n",
    "    ax2 = ax1.twinx()\n",
    "    ax2.set_ylabel('Validation Accuracy (%)', color='tab:orange')\n",
    "    ax2.plot(range(1, len(val_accuracies) + 1), val_accuracies, label='Validation Accuracy', color='tab:orange')\n",
    "    ax2.tick_params(axis='y', labelcolor='tab:orange')\n",
    "\n",
    "    # Title and legend\n",
    "    fig.tight_layout()\n",
    "    plt.title('Learning Curve')\n",
    "    plt.show()\n",
    "\n",
    "plot_learning_curve(train_losses, val_accuracies)\n"
   ]
  }
 ],
 "metadata": {
  "kernelspec": {
   "display_name": "venv",
   "language": "python",
   "name": "python3"
  },
  "language_info": {
   "codemirror_mode": {
    "name": "ipython",
    "version": 3
   },
   "file_extension": ".py",
   "mimetype": "text/x-python",
   "name": "python",
   "nbconvert_exporter": "python",
   "pygments_lexer": "ipython3",
   "version": "3.10.12"
  }
 },
 "nbformat": 4,
 "nbformat_minor": 2
}
