{
 "cells": [
  {
   "cell_type": "markdown",
   "metadata": {},
   "source": [
    "# Setting "
   ]
  },
  {
   "cell_type": "code",
   "execution_count": 2,
   "metadata": {},
   "outputs": [],
   "source": [
    "import os\n",
    "import glob\n",
    "import random\n",
    "import time\n",
    "import math\n",
    "import logging \n",
    "from tqdm import tqdm\n",
    "\n",
    "import torch\n",
    "\n",
    "import torch.nn as nn\n",
    "import torch.optim as optim\n",
    "import pickle\n",
    "import copy, math\n",
    "from torch.utils.data import DataLoader, Subset\n",
    "\n",
    "from transformers import BertTokenizer\n",
    "from sklearn.preprocessing import LabelEncoder\n",
    "\n",
    "import torch.nn.functional as F\n",
    "from torch.nn.modules.utils import _pair\n",
    "from torch.nn.parameter import Parameter\n",
    "\n",
    "import numpy as np\n",
    "import pandas as pd\n",
    "import matplotlib.pyplot as plt\n",
    "import seaborn as sns\n",
    "\n",
    "from PIL import Image\n",
    "\n",
    "import torchvision.transforms as T\n",
    "\n",
    "import models.shared_perceiver as sp\n",
    "import models.layers as nl"
   ]
  },
  {
   "cell_type": "code",
   "execution_count": 3,
   "metadata": {},
   "outputs": [],
   "source": [
    "device = torch.device(f\"cuda\" if torch.cuda.is_available() else \"cpu\")"
   ]
  },
  {
   "cell_type": "code",
   "execution_count": 4,
   "metadata": {},
   "outputs": [],
   "source": [
    "def seed_everything(seed):\n",
    "    torch.manual_seed(seed) #torch를 거치는 모든 난수들의 생성순서를 고정한다\n",
    "    torch.cuda.manual_seed(seed) #cuda를 사용하는 메소드들의 난수시드는 따로 고정해줘야한다 \n",
    "    torch.cuda.manual_seed_all(seed)  # if use multi-GPU\n",
    "    torch.backends.cudnn.deterministic = True #딥러닝에 특화된 CuDNN의 난수시드도 고정 \n",
    "    torch.backends.cudnn.benchmark = False\n",
    "    np.random.seed(seed) #numpy를 사용할 경우 고정\n",
    "    random.seed(seed) #파이썬 자체 모듈 random 모듈의 시드 고정\n",
    "\n",
    "def seed_worker(worker_id): #데이터로더 난수고정\n",
    "    worker_seed = torch.initial_seed() % 2**32\n",
    "    np.random.seed(worker_seed)\n",
    "    random.seed(worker_seed)\n",
    "\n",
    "seed_everything(42)\n",
    "g = torch.Generator()\n",
    "g.manual_seed(42)\n",
    "NUM_WORKERS = 4 # 서브프로세스관리자 수. 난수생성과 관련있습니다. 일단은 4로 고정합니다.\n"
   ]
  },
  {
   "cell_type": "markdown",
   "metadata": {},
   "source": [
    "# Import Models"
   ]
  },
  {
   "cell_type": "markdown",
   "metadata": {},
   "source": [
    "## Params & Hyperparams"
   ]
  },
  {
   "cell_type": "code",
   "execution_count": 24,
   "metadata": {},
   "outputs": [],
   "source": [
    "FINETUNE_EPOCHS = 50\n",
    "NETWORK_WIDTH_MULTIPLIER = 1.0\n",
    "MAX_NETWORK_WIDTH_MULTIPLIER = 2.0\n",
    "\n",
    "LR = 1e-2\n",
    "LR_MASK = 1e-4\n",
    "WEIGHT_DECAY = 4e-5\n",
    "BATCH_SIZE = 32\n",
    "TOTAL_NUM_TASKS = 6\n",
    "\n",
    "NUM_CLASSES = 3\n",
    "\n",
    "EMBED_DIM = 128\n",
    "LATENT_DIM = 64\n",
    "LATENT_SIZE = 64\n",
    "NUM_BLOCKS = 4\n",
    "\n",
    "TASK_ID = 5\n",
    "DIFF_MODE = 'Cosine'      # Cosine / Euclidean"
   ]
  },
  {
   "cell_type": "code",
   "execution_count": 11,
   "metadata": {},
   "outputs": [],
   "source": [
    "data_path = '/home/youlee/n24news/n24news'\n",
    "\n",
    "file_path = '/home/Minju/Perceiver'\n",
    "\n",
    "groups_path = data_path + '/captions_and_labels.csv'\n",
    "\n",
    "model_path = file_path + '/shared_layer_model/'\n",
    "loader_path = file_path + '/shared_layer_loader/'\n",
    "\n",
    "diff_path = file_path + '/code'\n",
    "cosine_path = diff_path + '/best_cosine_results.txt'\n",
    "euc_path =  diff_path + '/best_euclidean_results.txt'"
   ]
  },
  {
   "cell_type": "markdown",
   "metadata": {},
   "source": [
    "### ModelDiff 결과 읽기"
   ]
  },
  {
   "cell_type": "code",
   "execution_count": 25,
   "metadata": {},
   "outputs": [],
   "source": [
    "cos_df = pd.read_csv(cosine_path, sep='\\t')\n",
    "euc_df = pd.read_csv(euc_path, sep='\\t')"
   ]
  },
  {
   "cell_type": "code",
   "execution_count": 27,
   "metadata": {},
   "outputs": [
    {
     "name": "stdout",
     "output_type": "stream",
     "text": [
      "Target of Task 5 is: 4\n"
     ]
    }
   ],
   "source": [
    "if DIFF_MODE == 'Cosine':\n",
    "    TARGET_ID = cos_df[cos_df.Task_ID == TASK_ID].Best_Target_ID.item()\n",
    "else:\n",
    "    TARGET_ID = euc_df[euc_df.Task_id == TASK_ID].Best_Target_ID.item()\n",
    "print(f'Target of Task {TASK_ID} is: {TARGET_ID}')"
   ]
  },
  {
   "cell_type": "markdown",
   "metadata": {},
   "source": [
    "## Output Path "
   ]
  },
  {
   "cell_type": "code",
   "execution_count": 20,
   "metadata": {},
   "outputs": [],
   "source": [
    "save_folder = file_path + '/finetune/'\n",
    "load_folder = file_path + f'/{TASK_ID}/{TARGET_ID}'"
   ]
  },
  {
   "cell_type": "code",
   "execution_count": null,
   "metadata": {},
   "outputs": [],
   "source": [
    "# version_name = 'CPG_fromsingle_scratch_woexp_target'\n",
    "# single_version_name = 'CPG_single_scratch_woexp'\n",
    "# baseline_file = 'logs_lenet5/baseline_cifar100_acc_scratch.txt'\n",
    "# checkpoints_name = 'checkpoints_lenet5'"
   ]
  },
  {
   "cell_type": "code",
   "execution_count": 21,
   "metadata": {},
   "outputs": [],
   "source": [
    "tokenizer = BertTokenizer.from_pretrained('bert-base-uncased')\n",
    "MAX_LENGTH=128"
   ]
  },
  {
   "cell_type": "markdown",
   "metadata": {},
   "source": [
    "## 모델 불러오기"
   ]
  },
  {
   "cell_type": "markdown",
   "metadata": {},
   "source": [
    "### Checkpoint 가져오기"
   ]
  },
  {
   "cell_type": "code",
   "execution_count": 30,
   "metadata": {},
   "outputs": [
    {
     "name": "stderr",
     "output_type": "stream",
     "text": [
      "/tmp/ipykernel_2569654/259765811.py:6: FutureWarning: You are using `torch.load` with `weights_only=False` (the current default value), which uses the default pickle module implicitly. It is possible to construct malicious pickle data which will execute arbitrary code during unpickling (See https://github.com/pytorch/pytorch/blob/main/SECURITY.md#untrusted-models for more details). In a future release, the default value for `weights_only` will be flipped to `True`. This limits the functions that could be executed during unpickling. Arbitrary objects will no longer be allowed to be loaded via this mode unless they are explicitly allowlisted by the user via `torch.serialization.add_safe_globals`. We recommend you start setting `weights_only=True` for any use case where you don't have full control of the loaded file. Please open an issue on GitHub for any issues related to this experimental feature.\n",
      "  checkpoint = torch.load(model_dir, map_location=device)\n"
     ]
    }
   ],
   "source": [
    "if TARGET_ID < 7: # text modality\n",
    "  model_dir = os.path.join(model_path, f\"text_checkpoint_{TASK_ID}_epoch_40.pth.tar\")\n",
    "  if not os.path.exists(model_dir):\n",
    "      raise FileNotFoundError(f\"모델 체크포인트를 찾을 수 없습니다: {model_dir}\")\n",
    "\n",
    "  checkpoint = torch.load(model_dir, map_location=device)\n",
    "  \n",
    "else:  # image modality\n",
    "  model_dir = os.path.join(model_path, f'image_checkpoint_{TASK_ID%6+1}_epoch_40.pth.tar')  \n",
    "  if not os.path.exists(model_dir):\n",
    "     raise FileNotFoundError(f'모델 체크포인트를 찾을 수 없습니다: {model_dir}')\n",
    "  checkpoint = torch.load(model_dir, map_location=device)"
   ]
  },
  {
   "cell_type": "code",
   "execution_count": 43,
   "metadata": {},
   "outputs": [],
   "source": [
    "checkpoint_keys = checkpoint.keys()\n",
    "dataset_history = checkpoint['dataset_history']\n",
    "dataset2num_classes = checkpoint['dataset2num_classes']\n",
    "masks = checkpoint['masks']\n",
    "shared_layer_info = checkpoint['shared_layer_info']\n",
    "# if TARGET_ID < 7:\n",
    "#   network_width_multiplier = shared_layer_info['text']['network_width_multiplier']\n",
    "# TODO: network_width_multiplier 문제 해결하기기"
   ]
  },
  {
   "cell_type": "markdown",
   "metadata": {},
   "source": [
    "### 새 모델 `model` 정의 "
   ]
  },
  {
   "cell_type": "code",
   "execution_count": null,
   "metadata": {},
   "outputs": [],
   "source": [
    "model = sp.Perceiver(dataset_history=dataset_history, \n",
    "                    dataset2num_classes=dataset2num_classes,\n",
    "                    network_width_multiplier=NETWORK_WIDTH_MULTIPLIER, \n",
    "                    shared_layer_info=shared_layer_info,\n",
    "                    input_dim=EMBED_DIM, latent_dim=LATENT_DIM, \n",
    "                    latent_size=LATENT_SIZE, num_classes=NUM_CLASSES,\n",
    "                    num_blocks=NUM_BLOCKS, self_attn_layers_per_block=1)\n",
    "\n",
    "model.add_dataset(dataset, NUM_CLASSES)\n",
    "model.set_dataset(dataset)\n",
    "\n",
    "if TASK_ID < 7:\n",
    "    model = sp.CombinedModel(vocab_size=tokenizer.vocab_size, embed_dim=EMBED_DIM, perceiver_model=model)\n",
    "\n",
    "model.load_state_dict(checkpoint['model_state_dict'])\n",
    "model = model.to(device)"
   ]
  },
  {
   "cell_type": "code",
   "execution_count": null,
   "metadata": {},
   "outputs": [],
   "source": []
  },
  {
   "cell_type": "markdown",
   "metadata": {},
   "source": [
    "# Import New Task"
   ]
  },
  {
   "cell_type": "code",
   "execution_count": 38,
   "metadata": {},
   "outputs": [
    {
     "name": "stdout",
     "output_type": "stream",
     "text": [
      "생성된 그룹별 CSV 파일 경로:\n",
      "\n",
      "group 5 처리 중...\n",
      "Task ID {TASK_ID} dataset 처리 완료.\n"
     ]
    }
   ],
   "source": [
    "if TARGET_ID < 7:\n",
    "    file_path = '/home/youlee/n24news/n24news/captions_and_labels.csv'\n",
    "    data = pd.read_csv(file_path)\n",
    "\n",
    "    groups = [\n",
    "        [\"Opinion\", \"Art & Design\", \"Television\"],\n",
    "        [\"Music\", \"Travel\", \"Real Estate\"],\n",
    "        [\"Books\", \"Theater\", \"Health\"],\n",
    "        [\"Sports\", \"Science\", \"Food\"],\n",
    "        [\"Fashion & Style\", \"Movies\", \"Technology\"],\n",
    "        [\"Dance\", \"Media\", \"Style\"]\n",
    "    ]\n",
    "\n",
    "    for i, group_labels in enumerate(groups, 1):\n",
    "        if i != TASK_ID:\n",
    "            continue\n",
    "\n",
    "        group_data = data[data['Label'].isin(group_labels)]\n",
    "        output_path = f'/home/youlee/n24news/n24news/regroup_{i}.csv'\n",
    "        group_data.to_csv(output_path, index=False)\n",
    "\n",
    "    print(\"생성된 그룹별 CSV 파일 경로:\")\n",
    "    \n",
    "    print(f\"\\ngroup {TASK_ID} 처리 중...\")\n",
    "\n",
    "    df = pd.read_csv(output_path)\n",
    "    label_encoder = LabelEncoder()\n",
    "    df['Label'] = label_encoder.fit_transform(df['Label'])\n",
    "    num_classes = len(label_encoder.classes_)\n",
    "\n",
    "    input_ids, attention_masks = sp.tokenize_data(df, tokenizer=tokenizer, MAX_LENGTH=MAX_LENGTH)\n",
    "    labels = torch.tensor(df['Label'].values)\n",
    "\n",
    "    dataset = sp.CustomDataset(input_ids, attention_masks, labels)\n",
    "    print(\"Task ID {TASK_ID} dataset 처리 완료.\")\n",
    "else: # image modality\n",
    "    print(\"TODO: iamge modality 구현 완료할 것\")"
   ]
  },
  {
   "cell_type": "markdown",
   "metadata": {},
   "source": [
    "## Dataloader 준비 "
   ]
  },
  {
   "cell_type": "code",
   "execution_count": 39,
   "metadata": {},
   "outputs": [],
   "source": [
    "indices = torch.randperm(len(dataset))  # 랜덤하게 인덱스를 섞음\n",
    "train_size = int(0.8 * len(dataset))\n",
    "train_indices = indices[:train_size]\n",
    "test_indices = indices[train_size:]\n",
    "\n",
    "train_subset = Subset(dataset, train_indices.tolist())\n",
    "test_subset = Subset(dataset, test_indices.tolist())\n",
    "\n",
    "train_loader = DataLoader(train_subset, batch_size=BATCH_SIZE, shuffle=True,\n",
    "                        num_workers=NUM_WORKERS, worker_init_fn=seed_worker, generator=g)\n",
    "test_loader = DataLoader(test_subset, batch_size=BATCH_SIZE, shuffle=False,\n",
    "                        num_workers=NUM_WORKERS, worker_init_fn=seed_worker, generator=g)\n"
   ]
  },
  {
   "cell_type": "markdown",
   "metadata": {},
   "source": [
    "# Fine-Tuning"
   ]
  },
  {
   "cell_type": "code",
   "execution_count": 40,
   "metadata": {},
   "outputs": [
    {
     "ename": "NameError",
     "evalue": "name 'model' is not defined",
     "output_type": "error",
     "traceback": [
      "\u001b[0;31m---------------------------------------------------------------------------\u001b[0m",
      "\u001b[0;31mNameError\u001b[0m                                 Traceback (most recent call last)",
      "Cell \u001b[0;32mIn[40], line 2\u001b[0m\n\u001b[1;32m      1\u001b[0m criterion \u001b[38;5;241m=\u001b[39m nn\u001b[38;5;241m.\u001b[39mCrossEntropyLoss()\n\u001b[0;32m----> 2\u001b[0m optimizer \u001b[38;5;241m=\u001b[39m optim\u001b[38;5;241m.\u001b[39mSGD(\u001b[43mmodel\u001b[49m\u001b[38;5;241m.\u001b[39mparameters(), lr\u001b[38;5;241m=\u001b[39mLR, weight_decay\u001b[38;5;241m=\u001b[39mWEIGHT_DECAY, momentum\u001b[38;5;241m=\u001b[39m\u001b[38;5;241m0.9\u001b[39m)\n",
      "\u001b[0;31mNameError\u001b[0m: name 'model' is not defined"
     ]
    }
   ],
   "source": [
    "criterion = nn.CrossEntropyLoss()\n",
    "optimizer = optim.SGD(model.parameters(), lr=LR, weight_decay=WEIGHT_DECAY, momentum=0.9)"
   ]
  },
  {
   "cell_type": "code",
   "execution_count": 24,
   "metadata": {},
   "outputs": [
    {
     "name": "stderr",
     "output_type": "stream",
     "text": [
      "Epoch 1/50: 100%|██████████| 183/183 [00:02<00:00, 63.41it/s]\n",
      "Epoch 2/50: 100%|██████████| 183/183 [00:02<00:00, 67.57it/s]\n",
      "Epoch 3/50: 100%|██████████| 183/183 [00:02<00:00, 67.62it/s]\n",
      "Epoch 4/50: 100%|██████████| 183/183 [00:02<00:00, 67.26it/s]\n",
      "Epoch 5/50: 100%|██████████| 183/183 [00:02<00:00, 67.00it/s]\n",
      "Epoch 6/50: 100%|██████████| 183/183 [00:02<00:00, 67.04it/s]\n",
      "Epoch 7/50: 100%|██████████| 183/183 [00:02<00:00, 66.90it/s]\n",
      "Epoch 8/50: 100%|██████████| 183/183 [00:02<00:00, 66.85it/s]\n",
      "Epoch 9/50: 100%|██████████| 183/183 [00:02<00:00, 67.20it/s]\n",
      "Epoch 10/50: 100%|██████████| 183/183 [00:02<00:00, 67.02it/s]\n",
      "Epoch 11/50: 100%|██████████| 183/183 [00:02<00:00, 66.61it/s]\n",
      "Epoch 12/50: 100%|██████████| 183/183 [00:02<00:00, 67.00it/s]\n",
      "Epoch 13/50: 100%|██████████| 183/183 [00:02<00:00, 66.63it/s]\n",
      "Epoch 14/50: 100%|██████████| 183/183 [00:02<00:00, 66.46it/s]\n",
      "Epoch 15/50: 100%|██████████| 183/183 [00:02<00:00, 66.32it/s]\n",
      "Epoch 16/50: 100%|██████████| 183/183 [00:02<00:00, 66.57it/s]\n",
      "Epoch 17/50: 100%|██████████| 183/183 [00:02<00:00, 66.39it/s]\n",
      "Epoch 18/50: 100%|██████████| 183/183 [00:02<00:00, 66.22it/s]\n",
      "Epoch 19/50: 100%|██████████| 183/183 [00:02<00:00, 66.17it/s]\n",
      "Epoch 20/50: 100%|██████████| 183/183 [00:02<00:00, 66.33it/s]\n",
      "Epoch 21/50: 100%|██████████| 183/183 [00:02<00:00, 66.26it/s]\n",
      "Epoch 22/50: 100%|██████████| 183/183 [00:02<00:00, 66.19it/s]\n",
      "Epoch 23/50: 100%|██████████| 183/183 [00:02<00:00, 66.35it/s]\n",
      "Epoch 24/50: 100%|██████████| 183/183 [00:02<00:00, 66.11it/s]\n",
      "Epoch 25/50: 100%|██████████| 183/183 [00:02<00:00, 66.19it/s]\n",
      "Epoch 26/50: 100%|██████████| 183/183 [00:02<00:00, 65.45it/s]\n",
      "Epoch 27/50: 100%|██████████| 183/183 [00:02<00:00, 66.46it/s]\n",
      "Epoch 28/50: 100%|██████████| 183/183 [00:02<00:00, 66.20it/s]\n",
      "Epoch 29/50: 100%|██████████| 183/183 [00:02<00:00, 66.06it/s]\n",
      "Epoch 30/50: 100%|██████████| 183/183 [00:02<00:00, 66.40it/s]\n",
      "Epoch 31/50: 100%|██████████| 183/183 [00:02<00:00, 66.02it/s]\n",
      "Epoch 32/50: 100%|██████████| 183/183 [00:02<00:00, 66.18it/s]\n",
      "Epoch 33/50: 100%|██████████| 183/183 [00:02<00:00, 66.04it/s]\n",
      "Epoch 34/50: 100%|██████████| 183/183 [00:02<00:00, 66.21it/s]\n",
      "Epoch 35/50: 100%|██████████| 183/183 [00:02<00:00, 65.87it/s]\n",
      "Epoch 36/50: 100%|██████████| 183/183 [00:02<00:00, 66.21it/s]\n",
      "Epoch 37/50: 100%|██████████| 183/183 [00:02<00:00, 65.81it/s]\n",
      "Epoch 38/50: 100%|██████████| 183/183 [00:02<00:00, 65.93it/s]\n",
      "Epoch 39/50: 100%|██████████| 183/183 [00:02<00:00, 66.19it/s]\n",
      "Epoch 40/50: 100%|██████████| 183/183 [00:02<00:00, 66.15it/s]\n",
      "Epoch 41/50: 100%|██████████| 183/183 [00:02<00:00, 66.09it/s]\n",
      "Epoch 42/50: 100%|██████████| 183/183 [00:02<00:00, 66.38it/s]\n",
      "Epoch 43/50: 100%|██████████| 183/183 [00:02<00:00, 65.94it/s]\n",
      "Epoch 44/50: 100%|██████████| 183/183 [00:02<00:00, 66.20it/s]\n",
      "Epoch 45/50: 100%|██████████| 183/183 [00:02<00:00, 65.90it/s]\n",
      "Epoch 46/50: 100%|██████████| 183/183 [00:02<00:00, 66.06it/s]\n",
      "Epoch 47/50: 100%|██████████| 183/183 [00:02<00:00, 65.93it/s]\n",
      "Epoch 48/50: 100%|██████████| 183/183 [00:02<00:00, 66.20it/s]\n",
      "Epoch 49/50: 100%|██████████| 183/183 [00:02<00:00, 66.23it/s]\n",
      "Epoch 50/50: 100%|██████████| 183/183 [00:02<00:00, 66.30it/s]\n"
     ]
    }
   ],
   "source": [
    "for epoch in range(FINETUNE_EPOCHS):\n",
    "    model.train()\n",
    "    running_loss = 0.0\n",
    "    correct = 0\n",
    "    total = 0\n",
    "\n",
    "    for batch in tqdm(train_loader, desc=f\"Epoch {epoch+1}/{FINETUNE_EPOCHS}\"):\n",
    "        # inputs, labels = inputs.to(device), labels.to(device)\n",
    "        inputs = batch['input_ids'].to(device)\n",
    "        attention_masks = batch['attention_mask'].to(device)\n",
    "        labels = batch['labels'].to(device)\n",
    "        optimizer.zero_grad()\n",
    "        outputs = model(inputs)\n",
    "        loss = criterion(outputs, labels)\n",
    "        loss.backward()\n",
    "        optimizer.step()\n",
    "\n",
    "        running_loss += loss.item()\n",
    "        _, predicted = outputs.max(1)\n",
    "        total += labels.size(0)            \n",
    "        correct += predicted.eq(labels).sum().item()\n",
    "\n",
    "    train_acc = 100. * correct / total\n",
    "    logging.info(f\"Epoch [{epoch+1}/{FINETUNE_EPOCHS}], Loss: {running_loss:.4f}, Train Acc: {train_acc:.2f}%\")\n",
    "\n",
    "        # -------------------- #\n",
    "        # 🔹 모델 저장\n",
    "        # -------------------- #\n",
    "    if not os.path.exists(save_folder):\n",
    "        os.makedirs(save_folder)\n",
    "    torch.save({'state_dict': model.state_dict()}, os.path.join(save_folder, \"fine_tuned_model.pth.tar\"))\n",
    "\n",
    "logging.info(\"Fine-tuning 완료!\")"
   ]
  },
  {
   "cell_type": "code",
   "execution_count": null,
   "metadata": {},
   "outputs": [],
   "source": []
  }
 ],
 "metadata": {
  "kernelspec": {
   "display_name": "Python 3",
   "language": "python",
   "name": "python3"
  },
  "language_info": {
   "codemirror_mode": {
    "name": "ipython",
    "version": 3
   },
   "file_extension": ".py",
   "mimetype": "text/x-python",
   "name": "python",
   "nbconvert_exporter": "python",
   "pygments_lexer": "ipython3",
   "version": "3.10.12"
  }
 },
 "nbformat": 4,
 "nbformat_minor": 2
}
