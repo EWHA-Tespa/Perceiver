{
 "cells": [
  {
   "cell_type": "markdown",
   "metadata": {},
   "source": [
    "# Setting"
   ]
  },
  {
   "cell_type": "code",
   "execution_count": null,
   "metadata": {},
   "outputs": [],
   "source": [
    "import numpy as np\n",
    "import pandas as pd\n",
    "import torch"
   ]
  },
  {
   "cell_type": "code",
   "execution_count": null,
   "metadata": {},
   "outputs": [],
   "source": [
    "import torch.utils\n",
    "import torchvision.datasets as datasets\n",
    "import torchvision.transforms as transforms"
   ]
  },
  {
   "cell_type": "code",
   "execution_count": null,
   "metadata": {},
   "outputs": [],
   "source": [
    "warnings.filterwarnings('ignore')"
   ]
  },
  {
   "cell_type": "markdown",
   "metadata": {},
   "source": [
    "# Data"
   ]
  },
  {
   "cell_type": "code",
   "execution_count": null,
   "metadata": {},
   "outputs": [],
   "source": [
    "data_path = 'data/text'"
   ]
  },
  {
   "cell_type": "markdown",
   "metadata": {},
   "source": [
    "## Functions"
   ]
  },
  {
   "cell_type": "code",
   "execution_count": null,
   "metadata": {},
   "outputs": [],
   "source": [
    "def train_loader(dataset_name, train_path,train_batch_size, num_workers=4, pin_memory=True, normalize=None):\n",
    "    # normalize 없는 버전은 추후 개발. cifar100_dataset.py 참고\n",
    "    train_transform = transforms.Compose([\n",
    "        transforms.RandomCrop(32, padding=4),\n",
    "        transforms.RandomHorizontalFlip(),\n",
    "        transforms.ToTensor(),\n",
    "        normalize,\n",
    "    ])\n",
    "\n",
    "    # import data\n",
    "    trainset = datasets.ImageFolder(train_path+f'{dataset_name}', train_transform)\n",
    "    return torch.utils.data.DataLoader(trainset,\n",
    "                                       batch_size = train_batch_size,\n",
    "                                       shuffle=True,\n",
    "                                       sampler=None,\n",
    "                                       num_workers=num_workers,\n",
    "                                       pin_memory=pin_memory)\n",
    "    "
   ]
  },
  {
   "cell_type": "code",
   "execution_count": null,
   "metadata": {},
   "outputs": [],
   "source": [
    "def val_loader(dataset_name, val_path, val_batch_size, num_workers=4, pin_memory=True, normalize=None):\n",
    "    # normalize 없는 버전은 추후 개발\n",
    "    val_transform = transforms.Compose([ transforms.ToTensor(), normalize])\n",
    "\n",
    "    #import data\n",
    "    valset = datasets.ImageFolder(val_path+f'{dataset_name}', val_transform)\n",
    "    return torch.utils.data.DataLoader(valset, \n",
    "                                       batch_size = val_batch_size,\n",
    "                                       shuffle=False,\n",
    "                                       sampler=None,\n",
    "                                       num_workers=num_workers, \n",
    "                                       pin_memory=pin_memory)"
   ]
  },
  {
   "cell_type": "markdown",
   "metadata": {},
   "source": [
    "## Import data"
   ]
  },
  {
   "cell_type": "markdown",
   "metadata": {},
   "source": [
    "## 세부설정:"
   ]
  },
  {
   "cell_type": "code",
   "execution_count": null,
   "metadata": {},
   "outputs": [],
   "source": [
    "DATASET = ''        # 실험할 Task 이름 설정\n",
    "TRAIN_BATCH_SIZE = 64 \n",
    "VAL_BATCH_SIZE = 64"
   ]
  },
  {
   "cell_type": "code",
   "execution_count": null,
   "metadata": {},
   "outputs": [],
   "source": [
    "train_loader = train_loader(DATASET, TRAIN_BATCH_SIZE)\n",
    "val_loader = val_loader(DATASET, VAL_BATCH_SIZE)"
   ]
  }
 ],
 "metadata": {
  "kernelspec": {
   "display_name": "venv",
   "language": "python",
   "name": "python3"
  },
  "language_info": {
   "name": "python",
   "version": "3.10.12"
  }
 },
 "nbformat": 4,
 "nbformat_minor": 2
}
