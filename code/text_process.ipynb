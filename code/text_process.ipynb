{
 "cells": [
  {
   "cell_type": "markdown",
   "metadata": {},
   "source": [
    "# Setting"
   ]
  },
  {
   "cell_type": "code",
   "execution_count": null,
   "metadata": {},
   "outputs": [],
   "source": [
    "import json\n",
    "import torch\n",
    "from torch.utils.data import Dataset, DataLoader\n",
    "from transformers import AutoTokenizer"
   ]
  },
  {
   "cell_type": "code",
   "execution_count": null,
   "metadata": {},
   "outputs": [],
   "source": [
<<<<<<< HEAD
    "class TextDataset(Dataset):\n",
    "    def __init__(self, data_path, tokenizer, max_length):\n",
    "        self.data = self.load_data(data_path)\n",
    "        self.tokenizer = tokenizer\n",
    "        self.max_length = max_length\n",
    "\n",
    "    def load_data(self, data_path):\n",
    "        with open(data_path, 'r', encoding='utf-8') as f:\n",
    "            dataset = json.load(f)\n",
    "        return [(item['text'], item['label']) for item in dataset]\n",
    "\n",
    "    def __len__(self):\n",
    "        return len(self.data)\n",
    "\n",
    "    def __getitem__(self, idx):\n",
    "        text, label = self.data[idx]\n",
    "        encoding = self.tokenizer(\n",
    "            text,\n",
    "            max_length=self.max_length,\n",
    "            padding='max_length',\n",
    "            truncation=True,\n",
    "            return_tensors=\"pt\"\n",
    "        )\n",
    "        return {\n",
    "            'input_ids': encoding['input_ids'].squeeze(0),\n",
    "            'attention_mask': encoding['attention_mask'].squeeze(0),\n",
    "            'label': torch.tensor(label, dtype=torch.long)\n",
    "        }"
   ]
  },
  {
   "cell_type": "code",
   "execution_count": 1,
   "metadata": {},
   "outputs": [],
   "source": [
    "def text_loader(data_path, tokenizer_name, batch_size, max_length, num_workers=4):\n",
    "    tokenizer = AutoTokenizer.from_pretrained(tokenizer_name)\n",
    "    dataset = TextDataset(data_path, tokenizer, max_length)\n",
    "    return DataLoader(dataset, batch_size=batch_size, shuffle=True, num_workers=num_workers)"
=======
    "import torch.utils\n",
    "import torchvision.datasets as datasets\n",
    "import torchvision.transforms as transforms"
>>>>>>> a88a79b33de04ba464273f65754e207c006458e7
   ]
  },
  {
   "cell_type": "code",
   "execution_count": null,
   "metadata": {},
   "outputs": [],
   "source": [
<<<<<<< HEAD
    "DATASET = 'text_data.json'  # 텍스트 데이터 경로\n",
    "TOKENIZER_NAME = 'bert-base-uncased'  # tokenizer 종류 이거 쓰면 되나??\n",
    "BATCH_SIZE = 64\n",
    "MAX_LENGTH = 128"
=======
    "warnings.filterwarnings('ignore')"
   ]
  },
  {
   "cell_type": "markdown",
   "metadata": {},
   "source": [
    "# Data"
>>>>>>> a88a79b33de04ba464273f65754e207c006458e7
   ]
  },
  {
   "cell_type": "code",
   "execution_count": null,
   "metadata": {},
   "outputs": [],
   "source": [
<<<<<<< HEAD
    "train_text_loader = text_loader(DATASET, TOKENIZER_NAME, BATCH_SIZE, MAX_LENGTH)"
=======
    "data_path = 'data/text'"
   ]
  },
  {
   "cell_type": "markdown",
   "metadata": {},
   "source": [
    "## Functions"
   ]
  },
  {
   "cell_type": "code",
   "execution_count": null,
   "metadata": {},
   "outputs": [],
   "source": [
    "def train_loader(dataset_name, train_path,train_batch_size, num_workers=4, pin_memory=True, normalize=None):\n",
    "    # normalize 없는 버전은 추후 개발. cifar100_dataset.py 참고\n",
    "    train_transform = transforms.Compose([\n",
    "        transforms.RandomCrop(32, padding=4),\n",
    "        transforms.RandomHorizontalFlip(),\n",
    "        transforms.ToTensor(),\n",
    "        normalize,\n",
    "    ])\n",
    "\n",
    "    # import data\n",
    "    trainset = datasets.ImageFolder(train_path+f'{dataset_name}', train_transform)\n",
    "    return torch.utils.data.DataLoader(trainset,\n",
    "                                       batch_size = train_batch_size,\n",
    "                                       shuffle=True,\n",
    "                                       sampler=None,\n",
    "                                       num_workers=num_workers,\n",
    "                                       pin_memory=pin_memory)\n",
    "    "
   ]
  },
  {
   "cell_type": "code",
   "execution_count": null,
   "metadata": {},
   "outputs": [],
   "source": [
    "def val_loader(dataset_name, val_path, val_batch_size, num_workers=4, pin_memory=True, normalize=None):\n",
    "    # normalize 없는 버전은 추후 개발\n",
    "    val_transform = transforms.Compose([ transforms.ToTensor(), normalize])\n",
    "\n",
    "    #import data\n",
    "    valset = datasets.ImageFolder(val_path+f'{dataset_name}', val_transform)\n",
    "    return torch.utils.data.DataLoader(valset, \n",
    "                                       batch_size = val_batch_size,\n",
    "                                       shuffle=False,\n",
    "                                       sampler=None,\n",
    "                                       num_workers=num_workers, \n",
    "                                       pin_memory=pin_memory)"
   ]
  },
  {
   "cell_type": "markdown",
   "metadata": {},
   "source": [
    "## Import data"
   ]
  },
  {
   "cell_type": "markdown",
   "metadata": {},
   "source": [
    "## 세부설정:"
   ]
  },
  {
   "cell_type": "code",
   "execution_count": null,
   "metadata": {},
   "outputs": [],
   "source": [
    "DATASET = ''        # 실험할 Task 이름 설정\n",
    "TRAIN_BATCH_SIZE = 64 \n",
    "VAL_BATCH_SIZE = 64"
   ]
  },
  {
   "cell_type": "code",
   "execution_count": null,
   "metadata": {},
   "outputs": [],
   "source": [
    "train_loader = train_loader(DATASET, TRAIN_BATCH_SIZE)\n",
    "val_loader = val_loader(DATASET, VAL_BATCH_SIZE)"
>>>>>>> a88a79b33de04ba464273f65754e207c006458e7
   ]
  }
 ],
 "metadata": {
  "kernelspec": {
   "display_name": "Python 3",
   "language": "python",
   "name": "python3"
  },
  "language_info": {
   "codemirror_mode": {
    "name": "ipython",
    "version": 3
   },
   "file_extension": ".py",
   "mimetype": "text/x-python",
   "name": "python",
   "nbconvert_exporter": "python",
   "pygments_lexer": "ipython3",
   "version": "3.10.12"
  }
 },
 "nbformat": 4,
 "nbformat_minor": 2
}
