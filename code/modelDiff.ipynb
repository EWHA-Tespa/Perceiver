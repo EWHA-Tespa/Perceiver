{
 "cells": [
  {
   "cell_type": "markdown",
   "metadata": {},
   "source": [
    "# Setting"
   ]
  },
  {
   "cell_type": "code",
   "execution_count": 34,
   "metadata": {},
   "outputs": [],
   "source": [
    "import logging\n",
    "import os\n",
    "import pdb\n",
    "import math\n",
    "import glob\n",
    "import random\n",
    "import time\n",
    "import pickle\n",
    "\n",
    "import numpy as np\n",
    "import pandas as pd\n",
    "import matplotlib.pyplot as plt\n",
    "\n",
    "from PIL import Image\n",
    "from sklearn.preprocessing import LabelEncoder\n",
    "\n",
    "from torchvision import transforms\n",
    "from torch.utils.data import Dataset, DataLoader\n",
    "from torch.utils.data import random_split\n",
    "\n",
    "import torchvision.transforms as T\n",
    "\n",
    "import torch\n",
    "import torch.nn as nn\n",
    "import torch.optim as optim\n",
    "import torch.backends.cudnn as cudnn\n",
    "from torch.nn.parameter import Parameter\n",
    "\n",
    "from tqdm import tqdm\n",
    "import sys\n",
    "\n",
    "import copy\n",
    "from scipy import spatial\n",
    "import csv\n",
    "\n",
    "from perceiver import crop, patchify, get_patch_coords, ImageDataset, PerceiverBlock, Perceiver, CustomDataset"
   ]
  },
  {
   "cell_type": "code",
   "execution_count": 35,
   "metadata": {},
   "outputs": [],
   "source": [
    "def seed_everything(seed):\n",
    "    torch.manual_seed(seed) #torch를 거치는 모든 난수들의 생성순서를 고정한다\n",
    "    torch.cuda.manual_seed(seed) #cuda를 사용하는 메소드들의 난수시드는 따로 고정해줘야한다 \n",
    "    torch.cuda.manual_seed_all(seed)  # if use multi-GPU\n",
    "    torch.backends.cudnn.deterministic = True #딥러닝에 특화된 CuDNN의 난수시드도 고정 \n",
    "    torch.backends.cudnn.benchmark = False\n",
    "    np.random.seed(seed) #numpy를 사용할 경우 고정\n",
    "    random.seed(seed) #파이썬 자체 모듈 random 모듈의 시드 고정\n",
    "seed_everything(42)"
   ]
  },
  {
   "cell_type": "markdown",
   "metadata": {},
   "source": [
    "# Load Model, DataLoader"
   ]
  },
  {
   "cell_type": "code",
   "execution_count": 36,
   "metadata": {},
   "outputs": [],
   "source": [
    "root_dir = '/home/Minju/Perceiver/model/'\n",
    "loader_dir = '/home/Minju/Perceiver/loader/'\n",
    "\n",
    "batch_size = 32"
   ]
  },
  {
   "cell_type": "code",
   "execution_count": 37,
   "metadata": {},
   "outputs": [],
   "source": [
    "input_models = []\n",
    "valid_loaders = []"
   ]
  },
  {
   "cell_type": "markdown",
   "metadata": {},
   "source": [
    "### Text Modality:"
   ]
  },
  {
   "cell_type": "code",
   "execution_count": 38,
   "metadata": {},
   "outputs": [],
   "source": [
    "# for i in range (6):\n",
    "#     text_model = torch.load(root_dir + f'text_model_{i+1}.pkl')\n",
    "#     input_models.append(text_model)\n",
    "#     print(f\"Text model {i+1}번 불러오기 완료.\")\n",
    "\n",
    "#     with open(loader_dir+f'text_val_loader_{i+1}.pkl', 'rb') as f:\n",
    "#         loaded_valid_dataset = pickle.load(f)\n",
    "#     valid_loaders.append(loaded_valid_dataset)\n",
    "#     print(f\"Text val. loader {i}번 불러오기 완료.\")"
   ]
  },
  {
   "cell_type": "markdown",
   "metadata": {},
   "source": [
    "### Image Modality:"
   ]
  },
  {
   "cell_type": "code",
   "execution_count": 39,
   "metadata": {},
   "outputs": [
    {
     "name": "stderr",
     "output_type": "stream",
     "text": [
      "/tmp/ipykernel_160219/520048891.py:2: FutureWarning: You are using `torch.load` with `weights_only=False` (the current default value), which uses the default pickle module implicitly. It is possible to construct malicious pickle data which will execute arbitrary code during unpickling (See https://github.com/pytorch/pytorch/blob/main/SECURITY.md#untrusted-models for more details). In a future release, the default value for `weights_only` will be flipped to `True`. This limits the functions that could be executed during unpickling. Arbitrary objects will no longer be allowed to be loaded via this mode unless they are explicitly allowlisted by the user via `torch.serialization.add_safe_globals`. We recommend you start setting `weights_only=True` for any use case where you don't have full control of the loaded file. Please open an issue on GitHub for any issues related to this experimental feature.\n",
      "  img_model = torch.load(root_dir + f'image_model_{i+1}.pkl')\n"
     ]
    },
    {
     "name": "stdout",
     "output_type": "stream",
     "text": [
      "Image model 0번 불러오기 완료.\n",
      "Image val. loader 0번 불러오기 완료.\n",
      "Image model 1번 불러오기 완료.\n",
      "Image val. loader 1번 불러오기 완료.\n",
      "Image model 2번 불러오기 완료.\n",
      "Image val. loader 2번 불러오기 완료.\n",
      "Image model 3번 불러오기 완료.\n",
      "Image val. loader 3번 불러오기 완료.\n",
      "Image model 4번 불러오기 완료.\n",
      "Image val. loader 4번 불러오기 완료.\n",
      "Image model 5번 불러오기 완료.\n",
      "Image val. loader 5번 불러오기 완료.\n"
     ]
    }
   ],
   "source": [
    "for i in range(6):\n",
    "    img_model = torch.load(root_dir + f'image_model_{i+1}.pkl')\n",
    "    input_models.append(img_model)\n",
    "    print(f\"Image model {i}번 불러오기 완료.\")\n",
    "\n",
    "    with open(loader_dir+f'image_val_loader_{i+1}.pkl', 'rb') as f:\n",
    "        loaded_valid_dataset = pickle.load(f)\n",
    "\n",
    "    valid_loader = DataLoader(loaded_valid_dataset, batch_size=batch_size, shuffle=False)\n",
    "    valid_loaders.append(valid_loader)\n",
    "    print(f\"Image val. loader {i}번 불러오기 완료.\")"
   ]
  },
  {
   "cell_type": "code",
   "execution_count": 40,
   "metadata": {},
   "outputs": [],
   "source": [
    "DEVICE = 'cuda' if torch.cuda.is_available() else 'cpu'"
   ]
  },
  {
   "cell_type": "markdown",
   "metadata": {},
   "source": [
    "## Define ModelDiff"
   ]
  },
  {
   "cell_type": "code",
   "execution_count": 41,
   "metadata": {},
   "outputs": [],
   "source": [
    "num_classes = -1\n",
    "lr = 0.1\n",
    "batch_size = 32\n",
    "val_batch_size = 100\n",
    "workers = 24\n",
    "weight_decay = 4e-5\n",
    "dataset_name = ''\n",
    "train_path = ''\n",
    "val_path = ''\n",
    "cuda = True\n",
    "seed = 1\n",
    "epochs = 160\n",
    "restore_epoch = 0\n",
    "save_folder = ''\n",
    "load_folder = ''\n",
    "one_shot_prune_perc = 0.5\n",
    "mode = ''\n",
    "logfile = ''\n",
    "initial_from_task = ''"
   ]
  },
  {
   "cell_type": "code",
   "execution_count": 42,
   "metadata": {},
   "outputs": [],
   "source": [
    "DATASETS = [\n",
    "    'Opinion','Art & Design','Television',\n",
    "    'Music','Travel','Real Estate',\n",
    "    'Books','Theater','Health',\n",
    "    'Sports','Science','Food',\n",
    "    'Fashion & Style','Movies','Technology',\n",
    "    'Dance', 'Media', 'Style'\n",
    "]"
   ]
  },
  {
   "cell_type": "code",
   "execution_count": 43,
   "metadata": {},
   "outputs": [],
   "source": [
    "epsilon = 0.1\n",
    "max_iterations = 100"
   ]
  },
  {
   "cell_type": "code",
   "execution_count": 44,
   "metadata": {},
   "outputs": [],
   "source": [
    "# target_id = 1"
   ]
  },
  {
   "cell_type": "markdown",
   "metadata": {},
   "source": [
    "# 유사도검색"
   ]
  },
  {
   "cell_type": "markdown",
   "metadata": {},
   "source": [
    "task_id 책정방식: \\\n",
    "0~5 : text modality \\\n",
    "6~11: image modality"
   ]
  },
  {
   "cell_type": "markdown",
   "metadata": {},
   "source": [
    "## Approach 1: 특정 input data로 유사도 검증"
   ]
  },
  {
   "cell_type": "code",
   "execution_count": 45,
   "metadata": {},
   "outputs": [],
   "source": [
    "def compute_ddv_cos(model1, model2, inputs):\n",
    "    global outputs\n",
    "    global outputs2\n",
    "        \n",
    "    with torch.no_grad():\n",
    "        dists = []\n",
    "        outputs = model1(torch.Tensor(inputs).cuda()).to('cpu').tolist()\n",
    "        n_pairs = int(len(list(inputs)) / 2)\n",
    "        for i in range(n_pairs):\n",
    "            ya = outputs[i]\n",
    "            yb = outputs[i + n_pairs]\n",
    "            dist = spatial.distance.cosine(ya, yb)\n",
    "            dists.append(dist)\n",
    "\n",
    "        dists2 = []\n",
    "        outputs2 = model2(torch.Tensor(inputs).cuda()).to('cpu').tolist()\n",
    "        n_pairs2 = int(len(list(inputs)) / 2)\n",
    "        for i in range(n_pairs2):\n",
    "            ya = outputs2[i]\n",
    "            yb = outputs2[i + n_pairs]\n",
    "            dist = spatial.distance.cosine(ya, yb)\n",
    "            dists2.append(dist)\n",
    "    return np.array(dists), np.array(dists2)"
   ]
  },
  {
   "cell_type": "code",
   "execution_count": 46,
   "metadata": {},
   "outputs": [],
   "source": [
    "def compute_ddv_euc(model1, model2, inputs):\n",
    "    global outputs\n",
    "    global outputs2\n",
    "        \n",
    "    with torch.no_grad():\n",
    "        dists = []\n",
    "        outputs = model1(torch.Tensor(inputs).cuda()).to('cpu').tolist()\n",
    "        n_pairs = int(len(list(inputs)) / 2)\n",
    "        for i in range(n_pairs):\n",
    "            ya = outputs[i]\n",
    "            yb = outputs[i + n_pairs]\n",
    "            dist = spatial.distance.euclidean(ya, yb) # dist = spatial.distance.cosine(ya, yb)\n",
    "            dists.append(dist)\n",
    "\n",
    "        dists2 = []\n",
    "        outputs2 = model2(torch.Tensor(inputs).cuda()).to('cpu').tolist()\n",
    "        n_pairs2 = int(len(list(inputs)) / 2)\n",
    "        for i in range(n_pairs2):\n",
    "            ya = outputs2[i]\n",
    "            yb = outputs2[i + n_pairs]\n",
    "            dist = spatial.distance.euclidean(ya, yb) # dist = spatial.distance.cosine(ya, yb)\n",
    "            dists2.append(dist)\n",
    "    return np.array(dists), np.array(dists2)"
   ]
  },
  {
   "cell_type": "code",
   "execution_count": 47,
   "metadata": {},
   "outputs": [],
   "source": [
    "##### compute_similarity #####\n",
    "def compute_sim_cos(ddv1, ddv2):\n",
    "    return spatial.distance.cosine(ddv1, ddv2)    "
   ]
  },
  {
   "cell_type": "markdown",
   "metadata": {},
   "source": [
    "### modelDiff "
   ]
  },
  {
   "cell_type": "code",
   "execution_count": 48,
   "metadata": {},
   "outputs": [],
   "source": [
    "# ddvcc_list = []\n",
    "# ddvec_list = []\n",
    "\n",
    "# for task_id in range(6):\n",
    "#     if task_id == target_id:\n",
    "#         continue\n",
    "\n",
    "#     # batch = next(iter(valid_loaders[target_id]))  \n",
    "#     # print(batch)\n",
    "#     # valid_loader = valid_loaders[target_id]  # valid_loader 가져오기\n",
    "#     # data_iter = iter(valid_loader)  # 반복자 생성\n",
    "#     # batch = next(data_iter)  # 첫 번째 배치 가져오기\n",
    "    \n",
    "#     # print(batch)  \n",
    "    \n",
    "#     # # input_ids를 numpy 또는 tensor로 변환\n",
    "#     # inputs = batch['input_ids'].to(DEVICE)\n",
    "#     if target_id >= 6:   # Text Modality\n",
    "#         batch = next(iter(valid_loaders[target_id]))  \n",
    "#         inputs = batch['input_ids'].to(DEVICE)\n",
    "        \n",
    "#     else:               # Image Modality\n",
    "#         inputs = next(iter(valid_loaders[target_id]))[0]\n",
    "\n",
    "#     ddv1, ddv2 = compute_ddv_cos(input_models[target_id], input_models[task_id], inputs)\n",
    "#     ddv_distance = compute_sim_cos(ddv1, ddv2)\n",
    "#     print('DDV cos-cos [%d => %d] %.5f'%(task_id, target_id, ddv_distance))\n",
    "#     ddvcc_list.append(ddv_distance)\n",
    "\n",
    "#     # DDV-EC\n",
    "#     ddv1, ddv2 = compute_ddv_euc(input_models[target_id], input_models[task_id], inputs)\n",
    "#     ddv_distance = compute_sim_cos(ddv1, ddv2)\n",
    "#     print('DDV euc-cos [%d => %d] %.5f'%(task_id, target_id, ddv_distance))\n",
    "#     ddvec_list.append(ddv_distance)"
   ]
  },
  {
   "cell_type": "code",
   "execution_count": 52,
   "metadata": {},
   "outputs": [
    {
     "name": "stdout",
     "output_type": "stream",
     "text": [
      "DDV cos-cos [1 => 0] 0.33892\n",
      "DDV euc-cos [1 => 0] 0.22612\n",
      "DDV cos-cos [2 => 0] 0.65785\n",
      "DDV euc-cos [2 => 0] 0.33747\n",
      "DDV cos-cos [3 => 0] 0.16940\n",
      "DDV euc-cos [3 => 0] 0.08735\n",
      "DDV cos-cos [4 => 0] 0.08639\n",
      "DDV euc-cos [4 => 0] 0.07176\n",
      "DDV cos-cos [5 => 0] 0.66696\n",
      "DDV euc-cos [5 => 0] 0.34416\n",
      "DDV cos-cos [0 => 1] 0.38898\n",
      "DDV euc-cos [0 => 1] 0.18607\n",
      "DDV cos-cos [2 => 1] 0.30110\n",
      "DDV euc-cos [2 => 1] 0.12600\n",
      "DDV cos-cos [3 => 1] 0.28613\n",
      "DDV euc-cos [3 => 1] 0.09757\n",
      "DDV cos-cos [4 => 1] 0.58688\n",
      "DDV euc-cos [4 => 1] 0.23617\n",
      "DDV cos-cos [5 => 1] 0.40869\n",
      "DDV euc-cos [5 => 1] 0.12332\n",
      "DDV cos-cos [0 => 2] 0.40153\n",
      "DDV euc-cos [0 => 2] 0.20917\n",
      "DDV cos-cos [1 => 2] 0.57333\n",
      "DDV euc-cos [1 => 2] 0.21514\n",
      "DDV cos-cos [3 => 2] 0.46248\n",
      "DDV euc-cos [3 => 2] 0.18565\n",
      "DDV cos-cos [4 => 2] 0.80110\n",
      "DDV euc-cos [4 => 2] 0.43881\n",
      "DDV cos-cos [5 => 2] 0.45114\n",
      "DDV euc-cos [5 => 2] 0.18134\n",
      "DDV cos-cos [0 => 3] 0.05162\n",
      "DDV euc-cos [0 => 3] 0.02070\n",
      "DDV cos-cos [1 => 3] 0.43202\n",
      "DDV euc-cos [1 => 3] 0.14401\n",
      "DDV cos-cos [2 => 3] 0.27806\n",
      "DDV euc-cos [2 => 3] 0.14591\n",
      "DDV cos-cos [4 => 3] 0.29510\n",
      "DDV euc-cos [4 => 3] 0.12590\n",
      "DDV cos-cos [5 => 3] 0.27664\n",
      "DDV euc-cos [5 => 3] 0.13537\n",
      "DDV cos-cos [0 => 4] 0.48264\n",
      "DDV euc-cos [0 => 4] 0.29546\n",
      "DDV cos-cos [1 => 4] 0.34580\n",
      "DDV euc-cos [1 => 4] 0.22429\n",
      "DDV cos-cos [2 => 4] 0.45643\n",
      "DDV euc-cos [2 => 4] 0.24288\n",
      "DDV cos-cos [3 => 4] 0.54013\n",
      "DDV euc-cos [3 => 4] 0.23358\n",
      "DDV cos-cos [5 => 4] 0.49366\n",
      "DDV euc-cos [5 => 4] 0.22474\n",
      "DDV cos-cos [0 => 5] 0.63909\n",
      "DDV euc-cos [0 => 5] 0.34297\n",
      "DDV cos-cos [1 => 5] 0.71115\n",
      "DDV euc-cos [1 => 5] 0.38434\n",
      "DDV cos-cos [2 => 5] 0.66991\n",
      "DDV euc-cos [2 => 5] 0.28878\n",
      "DDV cos-cos [3 => 5] 0.72891\n",
      "DDV euc-cos [3 => 5] 0.37265\n",
      "DDV cos-cos [4 => 5] 0.83495\n",
      "DDV euc-cos [4 => 5] 0.51244\n",
      "model 0의 cos 기준 backbone: 5\n",
      "model 0의 euc 기준 backbone: 5\n",
      "model 1의 cos 기준 backbone: 4\n",
      "model 1의 euc 기준 backbone: 4\n",
      "model 2의 cos 기준 backbone: 4\n",
      "model 2의 euc 기준 backbone: 4\n",
      "model 3의 cos 기준 backbone: 1\n",
      "model 3의 euc 기준 backbone: 2\n",
      "model 4의 cos 기준 backbone: 3\n",
      "model 4의 euc 기준 backbone: 0\n",
      "model 5의 cos 기준 backbone: 4\n",
      "model 5의 euc 기준 backbone: 4\n"
     ]
    }
   ],
   "source": [
    "ddvcc_list = []\n",
    "ddvec_list = []\n",
    "\n",
    "best_cos_list = []\n",
    "best_euc_list = []\n",
    "\n",
    "for target_id in range(6):\n",
    "    best_score_cos=0\n",
    "    best_id_cos=0\n",
    "    best_score_euc=0\n",
    "    best_id_euc=0\n",
    "\n",
    "    for task_id in range(6):\n",
    "        if task_id == target_id:\n",
    "            continue\n",
    "\n",
    "        if target_id >= 6:   # Text Modality\n",
    "            batch = next(iter(valid_loaders[target_id]))  \n",
    "            inputs = batch['input_ids'].to(DEVICE)\n",
    "        else:               # Image Modality\n",
    "            inputs = next(iter(valid_loaders[target_id]))[0]\n",
    "\n",
    "        ddv1, ddv2 = compute_ddv_cos(input_models[target_id], input_models[task_id], inputs)\n",
    "        ddv_distance = compute_sim_cos(ddv1, ddv2)\n",
    "        print('DDV cos-cos [%d => %d] %.5f'%(task_id, target_id, ddv_distance))\n",
    "        ddvcc_list.append(ddv_distance)\n",
    "        if ddv_distance >  best_score_cos :\n",
    "            best_score_cos = ddv_distance\n",
    "            best_id_cos = task_id\n",
    "\n",
    "\n",
    "    # DDV-EC\n",
    "        ddv1, ddv2 = compute_ddv_euc(input_models[target_id], input_models[task_id], inputs)\n",
    "        ddv_distance = compute_sim_cos(ddv1, ddv2)\n",
    "        print('DDV euc-cos [%d => %d] %.5f'%(task_id, target_id, ddv_distance))\n",
    "        ddvec_list.append(ddv_distance)\n",
    "        if ddv_distance >  best_score_euc :\n",
    "            best_score_euc = ddv_distance\n",
    "            best_id_euc = task_id\n",
    "    best_cos_list.append(best_id_cos)\n",
    "    best_euc_list.append(best_id_euc)\n",
    "\n",
    "for i in range(6):\n",
    "    print(f'model {i}의 cos 기준 backbone: {best_cos_list[i]}')\n",
    "    print(f'model {i}의 euc 기준 backbone: {best_euc_list[i]}')"
   ]
  },
  {
   "cell_type": "markdown",
   "metadata": {},
   "source": [
    "## Approach 2: latent vector로 유사도 검증"
   ]
  },
  {
   "cell_type": "code",
   "execution_count": null,
   "metadata": {},
   "outputs": [],
   "source": []
  }
 ],
 "metadata": {
  "kernelspec": {
   "display_name": "venv",
   "language": "python",
   "name": "python3"
  },
  "language_info": {
   "codemirror_mode": {
    "name": "ipython",
    "version": 3
   },
   "file_extension": ".py",
   "mimetype": "text/x-python",
   "name": "python",
   "nbconvert_exporter": "python",
   "pygments_lexer": "ipython3",
   "version": "3.10.12"
  }
 },
 "nbformat": 4,
 "nbformat_minor": 2
}
