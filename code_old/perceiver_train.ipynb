{
 "cells": [
  {
   "cell_type": "markdown",
   "metadata": {},
   "source": [
    "# Setting"
   ]
  },
  {
   "cell_type": "code",
   "execution_count": 1,
   "metadata": {},
   "outputs": [],
   "source": [
    "import numpy as np\n",
    "import pandas as pd\n",
    "import torch\n",
    "import perceiver #, img_process, text_process\n",
    "\n",
    "from torch import nn, einsum\n",
    "import torch.optim as optim\n",
    "from torch.utils.data import DataLoader\n",
    "from torchvision import datasets, transforms\n",
    "import torch.nn.functional as F\n",
    "\n",
    "#from perceiver_pytorch.perceiver_pytorch import exists, default, cache_fn, fourier_encode, PreNorm, FeeodForward, Attention"
   ]
  },
  {
   "cell_type": "code",
   "execution_count": 2,
   "metadata": {},
   "outputs": [],
   "source": [
    "import matplotlib.pyplot as plt"
   ]
  },
  {
   "cell_type": "markdown",
   "metadata": {},
   "source": [
    "# Import Data"
   ]
  },
  {
   "cell_type": "code",
   "execution_count": 3,
   "metadata": {},
   "outputs": [],
   "source": [
    "transform = transforms.Compose([\n",
    "    transforms.ToTensor(),\n",
    "    transforms.Normalize((0.5,), (0.5,))\n",
    "])"
   ]
  },
  {
   "cell_type": "code",
   "execution_count": 4,
   "metadata": {},
   "outputs": [],
   "source": [
    "train_dataset = datasets.MNIST(root='./data', train=True, download=True, transform=transform)\n",
    "test_dataset = datasets.MNIST(root='./data', train=False, download=True, transform=transform)"
   ]
  },
  {
   "cell_type": "markdown",
   "metadata": {},
   "source": [
    "## From here:"
   ]
  },
  {
   "cell_type": "code",
   "execution_count": 5,
   "metadata": {},
   "outputs": [],
   "source": [
    "MODALITY = 'IMAGE'   # IMAGE/TEXT. 모드 바꾸면 학습 모달리티 바뀜\n",
    "LOSS_FUNCTION = 'CrossEntropy'  # Loss function. 나중에 이거 전환하는 모드 만들기\n",
    "\n",
    "TUNING_MODE = 'OFF'  # Hyperparam tuning 모드. 차후 구현\n",
    "\n",
    "BATCH_SIZE = 32      # TUNING_MODE가 off일 때 기본으로 사용할 batch size, epoch 정의\n",
    "EPOCH = 15\n",
    "LR = 0.001\n",
    "# --- 여기서부턴 데이터 따라서 바꿔야 함 ---\n",
    "INPUT_DIM = 1\n",
    "LATENT_DIM = 128\n",
    "EMBED_DIM = 512\n",
    "NUM_HEADS = 8\n",
    "NUM_LAYERS = 4\n",
    "SEQ_LEN = 100\n",
    "LATENT_LEN = 10"
   ]
  },
  {
   "cell_type": "code",
   "execution_count": 6,
   "metadata": {},
   "outputs": [],
   "source": [
    "train_loader = DataLoader(train_dataset, batch_size=BATCH_SIZE, shuffle=True)\n",
    "test_loader = DataLoader(test_dataset, batch_size=BATCH_SIZE, shuffle=False)"
   ]
  },
  {
   "cell_type": "code",
   "execution_count": 7,
   "metadata": {},
   "outputs": [],
   "source": [
    "# if MODALITY == 'IMAGE':\n",
    "#     X_train_np, y_train, X_test, y_test = img_process.img_loader()\n",
    "# else:\n",
    "#     X_train_np, y_train, X_test, y_test = text_process.language_loader()"
   ]
  },
  {
   "cell_type": "markdown",
   "metadata": {},
   "source": [
    "# Import Model"
   ]
  },
  {
   "cell_type": "markdown",
   "metadata": {},
   "source": [
    "## Function"
   ]
  },
  {
   "cell_type": "code",
   "execution_count": 8,
   "metadata": {},
   "outputs": [],
   "source": [
    "def train(model, device, train_loader, optimizer, criterion, epoch):\n",
    "    model.train()\n",
    "    running_loss = 0.0\n",
    "    correct = 0\n",
    "    total = 0\n",
    "    \n",
    "    for batch_idx, (data, target) in enumerate(train_loader):\n",
    "        data, target = data.to(device), target.to(device)\n",
    "        data = data.view(data.size(0), -1, 1)\n",
    "\n",
    "        optimizer.zero_grad()\n",
    "        outputs = model(data)\n",
    "        loss = criterion(outputs, target)\n",
    "        loss.backward()\n",
    "        optimizer.step()\n",
    "        \n",
    "        running_loss += loss.item() * data.size(0)\n",
    "        _, predicted = torch.max(outputs.data, 1)\n",
    "        total += target.size(0)\n",
    "        correct += (predicted == target).sum().item()\n",
    "    \n",
    "    epoch_loss = running_loss / len(train_loader.dataset)\n",
    "    epoch_acc = correct / total * 100.0\n",
    "    print(f'Train Epoch: {epoch}\\t Loss:{epoch_loss:.4f}\\t, Accuracy:{epoch_acc:.3f}')\n",
    "    return epoch_loss, epoch_acc"
   ]
  },
  {
   "cell_type": "code",
   "execution_count": 12,
   "metadata": {},
   "outputs": [],
   "source": [
    "def test(model, device, test_loader, criterion):\n",
    "    model.eval()\n",
    "    test_loss = 0.0\n",
    "    correct = 0\n",
    "    total = 0\n",
    "    with torch.no_grad():\n",
    "        for data, target in test_loader:\n",
    "            data, target = data.to(device), target.to(device)\n",
    "            data = data.view(data.size(0), -1, 1)\n",
    "            outputs = model(data)\n",
    "            loss = criterion(outputs, target)\n",
    "            test_loss += loss.item() * data.size(0)\n",
    "            _, predicted = torch.max(outputs.data, 1)\n",
    "            total += target.size(0)\n",
    "            correct += (predicted == target).sum().item()\n",
    "    \n",
    "    epoch_loss = test_loss / len(test_loader.dataset)\n",
    "    epoch_acc = correct / total * 100.0\n",
    "    print(f'Test Loss:{epoch_loss:.4f}, Test Acc:{epoch_acc:.3f}%')\n",
    "    return epoch_loss, epoch_acc"
   ]
  },
  {
   "cell_type": "markdown",
   "metadata": {},
   "source": [
    "# Train"
   ]
  },
  {
   "cell_type": "markdown",
   "metadata": {},
   "source": [
    "## Train"
   ]
  },
  {
   "cell_type": "code",
   "execution_count": 13,
   "metadata": {},
   "outputs": [
    {
     "name": "stdout",
     "output_type": "stream",
     "text": [
      "Using device: cuda\n"
     ]
    }
   ],
   "source": [
    "device = torch.device('cuda' if torch.cuda.is_available() else 'cpu')\n",
    "print(f'Using device: {device}')"
   ]
  },
  {
   "cell_type": "code",
   "execution_count": 14,
   "metadata": {},
   "outputs": [
    {
     "name": "stderr",
     "output_type": "stream",
     "text": [
      "/home/Minju/venv/lib/python3.10/site-packages/torch/nn/modules/transformer.py:379: UserWarning: enable_nested_tensor is True, but self.use_nested_tensor is False because encoder_layer.self_attn.batch_first was not True(use batch_first for better inference performance)\n",
      "  warnings.warn(\n"
     ]
    },
    {
     "name": "stdout",
     "output_type": "stream",
     "text": [
      "Train Epoch: 1\t Loss:2.3364\t, Accuracy:10.013\n",
      "Test Loss:2.3073, Test Acc:10.100%\n",
      "Train Epoch: 2\t Loss:2.3063\t, Accuracy:10.405\n",
      "Test Loss:2.3108, Test Acc:10.100%\n",
      "Train Epoch: 3\t Loss:2.3039\t, Accuracy:10.483\n",
      "Test Loss:2.3030, Test Acc:10.280%\n",
      "Train Epoch: 4\t Loss:2.3032\t, Accuracy:10.933\n",
      "Test Loss:2.3020, Test Acc:11.350%\n",
      "Train Epoch: 5\t Loss:2.3027\t, Accuracy:10.797\n",
      "Test Loss:2.3017, Test Acc:11.350%\n",
      "Train Epoch: 6\t Loss:2.3025\t, Accuracy:10.900\n",
      "Test Loss:2.3021, Test Acc:11.350%\n",
      "Train Epoch: 7\t Loss:2.3022\t, Accuracy:10.922\n",
      "Test Loss:2.3026, Test Acc:11.350%\n",
      "Train Epoch: 8\t Loss:2.3022\t, Accuracy:10.952\n",
      "Test Loss:2.3011, Test Acc:11.350%\n",
      "Train Epoch: 9\t Loss:2.3020\t, Accuracy:11.112\n",
      "Test Loss:2.3011, Test Acc:11.350%\n",
      "Train Epoch: 10\t Loss:2.3021\t, Accuracy:11.165\n",
      "Test Loss:2.3010, Test Acc:11.350%\n",
      "Train Epoch: 11\t Loss:2.3018\t, Accuracy:11.162\n",
      "Test Loss:2.3012, Test Acc:11.350%\n",
      "Train Epoch: 12\t Loss:2.3019\t, Accuracy:11.152\n",
      "Test Loss:2.3012, Test Acc:11.350%\n",
      "Train Epoch: 13\t Loss:2.3019\t, Accuracy:11.147\n",
      "Test Loss:2.3016, Test Acc:11.350%\n",
      "Train Epoch: 14\t Loss:2.3018\t, Accuracy:11.168\n",
      "Test Loss:2.3012, Test Acc:11.350%\n",
      "Train Epoch: 15\t Loss:2.3020\t, Accuracy:11.143\n",
      "Test Loss:2.3017, Test Acc:11.350%\n"
     ]
    }
   ],
   "source": [
    "model = perceiver.Perceiver(input_dim=INPUT_DIM,\n",
    "                            latent_dim=LATENT_DIM,\n",
    "                            embed_dim=EMBED_DIM,\n",
    "                            num_heads=NUM_HEADS,\n",
    "                            num_layers=NUM_LAYERS,\n",
    "                            num_classes=10).to(device)\n",
    "\n",
    "criterion = nn.CrossEntropyLoss()\n",
    "optimizer = optim.Adam(model.parameters(), lr=LR)\n",
    "\n",
    "history_train_loss = []\n",
    "history_train_acc = []\n",
    "history_test_loss = []\n",
    "history_test_acc = []\n",
    "\n",
    "for epoch in range(1, EPOCH+1):\n",
    "    loss, acc = train(model, device, train_loader, optimizer, criterion, epoch)\n",
    "    history_train_loss.append(loss), history_train_acc.append(acc)\n",
    "    loss, acc = test(model, device, test_loader, criterion)\n",
    "    history_test_loss.append(loss), history_test_acc.append(acc)"
   ]
  },
  {
   "cell_type": "markdown",
   "metadata": {},
   "source": [
    "## Learning Curve"
   ]
  },
  {
   "cell_type": "code",
   "execution_count": 15,
   "metadata": {},
   "outputs": [
    {
     "data": {
      "image/png": "[encoded data removed]",
      "text/plain": [
       "<Figure size 1200x500 with 2 Axes>"
      ]
     },
     "metadata": {},
     "output_type": "display_data"
    }
   ],
   "source": [
    "epochs = range(1, EPOCH + 1)\n",
    "plt.figure(figsize=(12,5))\n",
    "\n",
    "plt.subplot(1,2,1)\n",
    "plt.plot(epochs, history_train_loss, 'b-', label = 'Train loss')\n",
    "plt.plot(epochs, history_test_loss, 'r-', label='Test loss')\n",
    "plt.title('Loss over epochs')\n",
    "plt.xlabel('Epoch')\n",
    "plt.ylabel('Loss')\n",
    "plt.legend()\n",
    "\n",
    "plt.subplot(1,2,2)\n",
    "plt.plot(epochs, history_train_acc, 'b-', label = 'Train Acc')\n",
    "plt.plot(epochs, history_test_acc, 'r-', label='Test Acc')\n",
    "plt.title('Accuracy over epochs')\n",
    "plt.xlabel('Epoch')\n",
    "plt.ylabel('Accuracy')\n",
    "plt.legend()\n",
    "\n",
    "plt.tight_layout()\n",
    "plt.show()"
   ]
  },
  {
   "cell_type": "markdown",
   "metadata": {},
   "source": [
    "# Load model"
   ]
  },
  {
   "cell_type": "code",
   "execution_count": 16,
   "metadata": {},
   "outputs": [
    {
     "name": "stdout",
     "output_type": "stream",
     "text": [
      "모델 저장 완료.\n",
      "모델 불러오기 완료.\n"
     ]
    },
    {
     "name": "stderr",
     "output_type": "stream",
     "text": [
      "/tmp/ipykernel_166618/1257665649.py:7: FutureWarning: You are using `torch.load` with `weights_only=False` (the current default value), which uses the default pickle module implicitly. It is possible to construct malicious pickle data which will execute arbitrary code during unpickling (See https://github.com/pytorch/pytorch/blob/main/SECURITY.md#untrusted-models for more details). In a future release, the default value for `weights_only` will be flipped to `True`. This limits the functions that could be executed during unpickling. Arbitrary objects will no longer be allowed to be loaded via this mode unless they are explicitly allowlisted by the user via `torch.serialization.add_safe_globals`. We recommend you start setting `weights_only=True` for any use case where you don't have full control of the loaded file. Please open an issue on GitHub for any issues related to this experimental feature.\n",
      "  model.load_state_dict(torch.load('perceiver_mnist.pth'))\n"
     ]
    }
   ],
   "source": [
    "torch.save(model.state_dict(), 'perceiver_mnist.pth')\n",
    "print(\"모델 저장 완료.\")\n",
    "\n",
    "# 모델 불러오기\n",
    "model = perceiver.Perceiver(input_dim=INPUT_DIM, latent_dim=LATENT_DIM, embed_dim=EMBED_DIM, \n",
    "                 num_heads=NUM_HEADS, num_layers=NUM_LAYERS, num_classes=10).to(device)\n",
    "model.load_state_dict(torch.load('perceiver_mnist.pth'))\n",
    "model.eval()\n",
    "print(\"모델 불러오기 완료.\")"
   ]
  }
 ],
 "metadata": {
  "kernelspec": {
   "display_name": "venv",
   "language": "python",
   "name": "python3"
  },
  "language_info": {
   "codemirror_mode": {
    "name": "ipython",
    "version": 3
   },
   "file_extension": ".py",
   "mimetype": "text/x-python",
   "name": "python",
   "nbconvert_exporter": "python",
   "pygments_lexer": "ipython3",
   "version": "3.10.12"
  }
 },
 "nbformat": 4,
 "nbformat_minor": 2
}
